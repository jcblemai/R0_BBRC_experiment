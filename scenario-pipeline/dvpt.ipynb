{
 "cells": [
  {
   "cell_type": "code",
   "execution_count": 1,
   "metadata": {},
   "outputs": [
    {
     "name": "stderr",
     "output_type": "stream",
     "text": [
      "/usr/local/lib/python3.7/site-packages/rpy2/robjects/pandas2ri.py:15: FutureWarning: pandas.core.index is deprecated and will be removed in a future version.  The public classes are available in the top-level namespace.\n",
      "  from pandas.core.index import Index as PandasIndex\n"
     ]
    },
    {
     "name": "stdout",
     "output_type": "stream",
     "text": [
      "../data/ch/mobility_matrix_adj.csv\n",
      "Mobility files as matrices are not recommended. Please switch soon to long form csv files.\n"
     ]
    },
    {
     "name": "stderr",
     "output_type": "stream",
     "text": [
      "/usr/local/lib/python3.7/site-packages/scipy/sparse/_index.py:84: SparseEfficiencyWarning: Changing the sparsity structure of a csr_matrix is expensive. lil_matrix is more efficient.\n",
      "  self._set_intXint(row, col, x.flat[0])\n"
     ]
    }
   ],
   "source": [
    "from rpy2 import robjects\n",
    "from rpy2.robjects import pandas2ri\n",
    "pandas2ri.activate()\n",
    "import pandas as pd\n",
    "import warnings, random\n",
    "from rpy2.rinterface import RRuntimeWarning\n",
    "warnings.filterwarnings(\"ignore\", category=RRuntimeWarning)\n",
    "import rpy2.robjects as ro\n",
    "from rpy2.robjects.conversion import localconverter\n",
    "r_source = robjects.r['source']\n",
    "r_assign = robjects.r['assign']\n",
    "r_options = robjects.r['options']\n",
    "r_options(warn=-1)\n",
    "from rpy2.rinterface_lib.callbacks import logger as rpy2_logger\n",
    "import itertools\n",
    "import time\n",
    "import uuid\n",
    "import matplotlib.pyplot as plt\n",
    "from numba import jit\n",
    "import numpy as np\n",
    "import pandas as pd\n",
    "import scipy\n",
    "from COVIDScenarioPipeline.SEIR import seir, setup\n",
    "from COVIDScenarioPipeline.SEIR.utils import config\n",
    "from COVIDScenarioPipeline.SEIR.profile import profile_options\n",
    "import multiprocessing\n",
    "import pathlib\n",
    "import time\n",
    "\n",
    "config_file='config.yml'\n",
    "scenario = 'Current'\n",
    "nsim = 10\n",
    "jobs = 2\n",
    "config.set_file(config_file)\n",
    "\n",
    "spatial_config = config[\"spatial_setup\"]\n",
    "spatial_base_path = pathlib.Path(spatial_config[\"base_path\"].get())\n",
    "\n",
    "\n",
    "s = setup.Setup(setup_name=config[\"name\"].get() + \"_\" + str(scenario),\n",
    "                        spatial_setup=setup.SpatialSetup(\n",
    "                            setup_name=spatial_config[\"setup_name\"].get(),\n",
    "                            geodata_file=spatial_base_path / spatial_config[\"geodata\"].get(),\n",
    "                            mobility_file=spatial_base_path / spatial_config[\"mobility\"].get(),\n",
    "                            popnodes_key=spatial_config[\"popnodes\"].get(),\n",
    "                            nodenames_key=spatial_config[\"nodenames\"].get()\n",
    "                        ),\n",
    "                        nsim=nsim,\n",
    "                        npi_scenario=scenario,\n",
    "                        npi_config=config[\"interventions\"][\"settings\"][scenario],\n",
    "                        seeding_config=config[\"seeding\"],\n",
    "                        ti=config[\"start_date\"].as_date(),\n",
    "                        tf=config[\"end_date\"].as_date(),\n",
    "                        interactive=False,\n",
    "                        write_csv=False,\n",
    "                        dt=config[\"dt\"].as_number())"
   ]
  },
  {
   "cell_type": "code",
   "execution_count": null,
   "metadata": {},
   "outputs": [],
   "source": []
  },
  {
   "cell_type": "code",
   "execution_count": 2,
   "metadata": {},
   "outputs": [
    {
     "name": "stderr",
     "output_type": "stream",
     "text": [
      "R[write to console]: \n",
      "Attachement du package : ‘dplyr’\n",
      "\n",
      "\n",
      "R[write to console]: The following objects are masked from ‘package:stats’:\n",
      "\n",
      "    filter, lag\n",
      "\n",
      "\n",
      "R[write to console]: The following objects are masked from ‘package:base’:\n",
      "\n",
      "    intersect, setdiff, setequal, union\n",
      "\n",
      "\n"
     ]
    },
    {
     "name": "stdout",
     "output_type": "stream",
     "text": [
      "[1] \"/Users/chadi/Documents/phd/COVID-19_CH/scenario-pipeline\"\n"
     ]
    },
    {
     "name": "stderr",
     "output_type": "stream",
     "text": [
      "R[write to console]: Parsed with column specification:\n",
      "cols(\n",
      "  ShortName = \u001b[31mcol_character()\u001b[39m,\n",
      "  var = \u001b[31mcol_character()\u001b[39m,\n",
      "  ll_comp = \u001b[31mcol_character()\u001b[39m,\n",
      "  parset = \u001b[32mcol_double()\u001b[39m,\n",
      "  mean = \u001b[32mcol_double()\u001b[39m,\n",
      "  median = \u001b[32mcol_double()\u001b[39m,\n",
      "  q025 = \u001b[32mcol_double()\u001b[39m,\n",
      "  q975 = \u001b[32mcol_double()\u001b[39m,\n",
      "  q25 = \u001b[32mcol_double()\u001b[39m,\n",
      "  q75 = \u001b[32mcol_double()\u001b[39m\n",
      ")\n",
      "\n",
      "R[write to console]: Parsed with column specification:\n",
      "cols(\n",
      "  Name = \u001b[31mcol_character()\u001b[39m,\n",
      "  ShortName = \u001b[31mcol_character()\u001b[39m,\n",
      "  CantonNumber = \u001b[32mcol_double()\u001b[39m,\n",
      "  FIPS = \u001b[31mcol_character()\u001b[39m,\n",
      "  NUTS = \u001b[31mcol_character()\u001b[39m,\n",
      "  pop2018 = \u001b[32mcol_double()\u001b[39m,\n",
      "  geoid = \u001b[31mcol_character()\u001b[39m\n",
      ")\n",
      "\n"
     ]
    },
    {
     "data": {
      "image/png": "[encoded data removed]",
      "text/plain": [
       "<Figure size 432x288 with 1 Axes>"
      ]
     },
     "metadata": {
      "needs_background": "light"
     },
     "output_type": "display_data"
    }
   ],
   "source": [
    "r_assign('ti_str', str(s.ti))\n",
    "r_assign('tf_str', str(s.tf))\n",
    "r_assign('foldername', '../data/ch/')\n",
    "r_assign('setupname', 'Current')#s.setup_name)\n",
    "r_source('NPI/NPI_for_baseline_deltas.R')\n",
    "R0 = robjects.r['NPI'].T\n",
    "R0.plot()\n",
    "ax = R0.mean(axis=1).plot(lw=5)\n",
    "ax.grid()"
   ]
  },
  {
   "cell_type": "code",
   "execution_count": 3,
   "metadata": {},
   "outputs": [
    {
     "name": "stdout",
     "output_type": "stream",
     "text": [
      "[1] \"/Users/chadi/Documents/phd/COVID-19_CH/scenario-pipeline\"\n"
     ]
    },
    {
     "name": "stderr",
     "output_type": "stream",
     "text": [
      "R[write to console]: Parsed with column specification:\n",
      "cols(\n",
      "  ShortName = \u001b[31mcol_character()\u001b[39m,\n",
      "  var = \u001b[31mcol_character()\u001b[39m,\n",
      "  ll_comp = \u001b[31mcol_character()\u001b[39m,\n",
      "  parset = \u001b[32mcol_double()\u001b[39m,\n",
      "  mean = \u001b[32mcol_double()\u001b[39m,\n",
      "  median = \u001b[32mcol_double()\u001b[39m,\n",
      "  q025 = \u001b[32mcol_double()\u001b[39m,\n",
      "  q975 = \u001b[32mcol_double()\u001b[39m,\n",
      "  q25 = \u001b[32mcol_double()\u001b[39m,\n",
      "  q75 = \u001b[32mcol_double()\u001b[39m\n",
      ")\n",
      "\n",
      "R[write to console]: Parsed with column specification:\n",
      "cols(\n",
      "  Name = \u001b[31mcol_character()\u001b[39m,\n",
      "  ShortName = \u001b[31mcol_character()\u001b[39m,\n",
      "  CantonNumber = \u001b[32mcol_double()\u001b[39m,\n",
      "  FIPS = \u001b[31mcol_character()\u001b[39m,\n",
      "  NUTS = \u001b[31mcol_character()\u001b[39m,\n",
      "  pop2018 = \u001b[32mcol_double()\u001b[39m,\n",
      "  geoid = \u001b[31mcol_character()\u001b[39m\n",
      ")\n",
      "\n"
     ]
    },
    {
     "data": {
      "text/plain": [
       "<matplotlib.axes._subplots.AxesSubplot at 0x13923c490>"
      ]
     },
     "execution_count": 3,
     "metadata": {},
     "output_type": "execute_result"
    },
    {
     "data": {
      "image/png": "[encoded data removed]",
      "text/plain": [
       "<Figure size 432x288 with 1 Axes>"
      ]
     },
     "metadata": {
      "needs_background": "light"
     },
     "output_type": "display_data"
    }
   ],
   "source": [
    "r_assign('ti_str', str(s.ti))\n",
    "r_assign('tf_str', str(s.tf))\n",
    "r_assign('foldername', '../data/ch/')\n",
    "r_assign('setupname', 'Stopped')#s.setup_name)\n",
    "r_source('NPI/NPI_for_baseline.R')\n",
    "R0 = robjects.r['NPI'].T\n",
    "R0.plot()\n",
    "R0.mean(axis=1).plot(lw=5)"
   ]
  },
  {
   "cell_type": "code",
   "execution_count": 4,
   "metadata": {},
   "outputs": [
    {
     "name": "stdout",
     "output_type": "stream",
     "text": [
      "[1] \"/Users/chadi/Documents/phd/COVID-19_CH/scenario-pipeline\"\n"
     ]
    },
    {
     "name": "stderr",
     "output_type": "stream",
     "text": [
      "R[write to console]: Parsed with column specification:\n",
      "cols(\n",
      "  ShortName = \u001b[31mcol_character()\u001b[39m,\n",
      "  var = \u001b[31mcol_character()\u001b[39m,\n",
      "  ll_comp = \u001b[31mcol_character()\u001b[39m,\n",
      "  parset = \u001b[32mcol_double()\u001b[39m,\n",
      "  mean = \u001b[32mcol_double()\u001b[39m,\n",
      "  median = \u001b[32mcol_double()\u001b[39m,\n",
      "  q025 = \u001b[32mcol_double()\u001b[39m,\n",
      "  q975 = \u001b[32mcol_double()\u001b[39m,\n",
      "  q25 = \u001b[32mcol_double()\u001b[39m,\n",
      "  q75 = \u001b[32mcol_double()\u001b[39m\n",
      ")\n",
      "\n",
      "R[write to console]: Parsed with column specification:\n",
      "cols(\n",
      "  Name = \u001b[31mcol_character()\u001b[39m,\n",
      "  ShortName = \u001b[31mcol_character()\u001b[39m,\n",
      "  CantonNumber = \u001b[32mcol_double()\u001b[39m,\n",
      "  FIPS = \u001b[31mcol_character()\u001b[39m,\n",
      "  NUTS = \u001b[31mcol_character()\u001b[39m,\n",
      "  pop2018 = \u001b[32mcol_double()\u001b[39m,\n",
      "  geoid = \u001b[31mcol_character()\u001b[39m\n",
      ")\n",
      "\n"
     ]
    },
    {
     "data": {
      "image/png": "[encoded data removed]",
      "text/plain": [
       "<Figure size 432x288 with 1 Axes>"
      ]
     },
     "metadata": {
      "needs_background": "light"
     },
     "output_type": "display_data"
    }
   ],
   "source": [
    "r_assign('ti_str', str(s.ti))\n",
    "r_assign('tf_str', str(s.tf))\n",
    "r_assign('foldername', '../data/ch/')\n",
    "r_assign('setupname', 'R0-0dot9')#s.setup_name)\n",
    "r_source('NPI/NPI_for_baseline_deltas.R')\n",
    "R0 = robjects.r['NPI'].T\n",
    "ax =R0.plot()\n",
    "#ax = R0.mean(axis=1).plot(lw=5)\n",
    "ax.grid()"
   ]
  },
  {
   "cell_type": "code",
   "execution_count": 107,
   "metadata": {},
   "outputs": [
    {
     "data": {
      "text/plain": [
       "<26x26 sparse matrix of type '<class 'numpy.float64'>'\n",
       "\twith 0 stored elements in Compressed Sparse Row format>"
      ]
     },
     "execution_count": 107,
     "metadata": {},
     "output_type": "execute_result"
    }
   ],
   "source": [
    "mobility"
   ]
  },
  {
   "cell_type": "code",
   "execution_count": 98,
   "metadata": {},
   "outputs": [],
   "source": [
    "mobility_data = pd.read_csv('../data/ch/mobility_matrix_adj.csv')"
   ]
  },
  {
   "cell_type": "code",
   "execution_count": 120,
   "metadata": {},
   "outputs": [
    {
     "name": "stderr",
     "output_type": "stream",
     "text": [
      "/usr/local/lib/python3.7/site-packages/scipy/sparse/_index.py:84: SparseEfficiencyWarning: Changing the sparsity structure of a csr_matrix is expensive. lil_matrix is more efficient.\n",
      "  self._set_intXint(row, col, x.flat[0])\n"
     ]
    }
   ],
   "source": [
    "mobility = scipy.sparse.csr_matrix((s.nnodes, s.nnodes))\n",
    "for index, row in mobility_data.iterrows():\n",
    "    mobility[s.spatset.nodenames.index(row['ori']),s.spatset.nodenames.index(row['dest'])] = row['amount']\n",
    "    if (s.spatset.nodenames.index(row['ori']) == s.spatset.nodenames.index(row['dest'])):\n",
    "        raise ValueError(f\"Mobility fluxes with same origin and destination: '{row['ori']}' to {row['dest']} in long form matrix. This is not supported\")"
   ]
  },
  {
   "cell_type": "code",
   "execution_count": 101,
   "metadata": {},
   "outputs": [
    {
     "data": {
      "text/plain": [
       "0      AG\n",
       "1      AG\n",
       "2      AG\n",
       "3      AG\n",
       "4      AG\n",
       "       ..\n",
       "217    ZH\n",
       "218    ZH\n",
       "219    ZH\n",
       "220    ZH\n",
       "221    ZH\n",
       "Name: ori, Length: 222, dtype: object"
      ]
     },
     "execution_count": 101,
     "metadata": {},
     "output_type": "execute_result"
    }
   ],
   "source": [
    "mobility_data['ori']"
   ]
  },
  {
   "cell_type": "code",
   "execution_count": 114,
   "metadata": {},
   "outputs": [
    {
     "data": {
      "text/plain": [
       "25"
      ]
     },
     "execution_count": 114,
     "metadata": {},
     "output_type": "execute_result"
    }
   ],
   "source": [
    "s.spatset.nodenames.index(row['ori'])"
   ]
  },
  {
   "cell_type": "code",
   "execution_count": 113,
   "metadata": {},
   "outputs": [
    {
     "data": {
      "text/plain": [
       "ori            ZH\n",
       "dest           ZG\n",
       "amount    21528.8\n",
       "Name: 221, dtype: object"
      ]
     },
     "execution_count": 113,
     "metadata": {},
     "output_type": "execute_result"
    }
   ],
   "source": [
    "row"
   ]
  }
 ],
 "metadata": {
  "kernelspec": {
   "display_name": "Python 3.7.5 64-bit",
   "language": "python",
   "name": "python37564bitb6a8cbcde2634e63883867447f9de255"
  },
  "language_info": {
   "codemirror_mode": {
    "name": "ipython",
    "version": 3
   },
   "file_extension": ".py",
   "mimetype": "text/x-python",
   "name": "python",
   "nbconvert_exporter": "python",
   "pygments_lexer": "ipython3",
   "version": "3.7.7"
  }
 },
 "nbformat": 4,
 "nbformat_minor": 4
}
